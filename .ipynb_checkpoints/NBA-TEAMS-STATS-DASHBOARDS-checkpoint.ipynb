{
 "cells": [
  {
   "cell_type": "markdown",
   "id": "6669ce29",
   "metadata": {},
   "source": [
    "# NBA TEAMS STATS DASHBOARDS"
   ]
  },
  {
   "cell_type": "code",
   "execution_count": 1,
   "id": "2f69e3c6",
   "metadata": {},
   "outputs": [],
   "source": [
    "import Functions.TeamDashboard as TeamDashboard\n",
    "import Functions.General as general\n",
    "import Functions.Imports as imp"
   ]
  },
  {
   "cell_type": "markdown",
   "id": "4da97f8f",
   "metadata": {},
   "source": [
    "### Querys"
   ]
  },
  {
   "cell_type": "markdown",
   "id": "dd377010",
   "metadata": {},
   "source": [
    "#### Pre Season"
   ]
  },
  {
   "cell_type": "code",
   "execution_count": null,
   "id": "cc288ec1",
   "metadata": {
    "scrolled": false
   },
   "outputs": [],
   "source": [
    "%%time\n",
    "\n",
    "dashboards_team_pre_season = []\n",
    "id_teams = []\n",
    "\n",
    "id_teams, dashboards_team_pre_season = TeamDashboard. team_dashboard(dashboards_team_pre_season,\n",
    "                                                                     id_teams,'Pre Season')\n"
   ]
  },
  {
   "cell_type": "code",
   "execution_count": null,
   "id": "d3fcc55c",
   "metadata": {},
   "outputs": [],
   "source": [
    "general.save_zip_file(\"TEAMS_STATS_PRE_SEASON\", \n",
    "                      dashboards_team_pre_season, \n",
    "                      list_or_df = \"LIST\" , \n",
    "                      save_nba_teams='N')"
   ]
  },
  {
   "cell_type": "markdown",
   "id": "667685f2",
   "metadata": {},
   "source": [
    "#### Regular Season"
   ]
  },
  {
   "cell_type": "code",
   "execution_count": null,
   "id": "897e2188",
   "metadata": {},
   "outputs": [],
   "source": [
    "%%time\n",
    "\n",
    "dashboards_team_regular_season = []\n",
    "id_teams = []\n",
    "\n",
    "id_teams, dashboards_team_regular_season = TeamDashboard. team_dashboard(dashboards_team_regular_season,\n",
    "                                                                         id_teams,'Regular Season')\n"
   ]
  },
  {
   "cell_type": "code",
   "execution_count": null,
   "id": "09943ad4",
   "metadata": {},
   "outputs": [],
   "source": [
    "general.save_zip_file(\"TEAMS_STATS_REGULAR_SEASON\", \n",
    "                      dashboards_team_regular_season, \n",
    "                      list_or_df = \"LIST\" ,\n",
    "                      save_nba_teams='N')"
   ]
  },
  {
   "cell_type": "markdown",
   "id": "521521a1",
   "metadata": {},
   "source": [
    "#### Playoffs"
   ]
  },
  {
   "cell_type": "code",
   "execution_count": null,
   "id": "6a7abca1",
   "metadata": {},
   "outputs": [],
   "source": [
    "%%time\n",
    "\n",
    "dashboards_team_playoffs = []\n",
    "id_teams = []\n",
    "\n",
    "id_teams, dashboards_team_playoffs = TeamDashboard. team_dashboard(dashboards_team_playoffs,\n",
    "                                                                   id_teams,'Playoffs')\n"
   ]
  },
  {
   "cell_type": "code",
   "execution_count": null,
   "id": "85a4f48d",
   "metadata": {},
   "outputs": [],
   "source": [
    "general.save_zip_file(\"TEAMS_STATS_PLAYOFFS\", \n",
    "                      dashboards_team_playoffs, \n",
    "                      list_or_df = \"LIST\",\n",
    "                      save_nba_teams='N')"
   ]
  },
  {
   "cell_type": "markdown",
   "id": "3a15ff58",
   "metadata": {},
   "source": [
    "### Modify files"
   ]
  },
  {
   "cell_type": "code",
   "execution_count": 2,
   "id": "bd8236a5",
   "metadata": {},
   "outputs": [],
   "source": [
    "dash_opp_pre = general.open_zip_file(\"TEAMS_STATS_PRE_SEASON\")\n",
    "dash_opp_regular = general.open_zip_file(\"TEAMS_STATS_REGULAR_SEASON\")\n",
    "dash_opp_playoffs = general.open_zip_file(\"TEAMS_STATS_PLAYOFFS\")"
   ]
  },
  {
   "cell_type": "code",
   "execution_count": 3,
   "id": "fa636186",
   "metadata": {},
   "outputs": [],
   "source": [
    "general.modify_columns(dash_opp_pre, opponent= 'N')\n",
    "general.modify_columns(dash_opp_regular, opponent= 'N')\n",
    "general.modify_columns(dash_opp_playoffs, opponent= 'N')"
   ]
  },
  {
   "cell_type": "code",
   "execution_count": 4,
   "id": "3364859e",
   "metadata": {},
   "outputs": [],
   "source": [
    "general.save_zip_file(\"TEAMS_STATS_PRE_SEASON_V2\", \n",
    "                      dash_opp_pre, \n",
    "                      list_or_df = \"LIST\", \n",
    "                      save_nba_teams='N')\n",
    "\n",
    "general.save_zip_file(\"TEAMS_STATS_REGULAR_SEASON_V2\", \n",
    "                      dash_opp_regular, \n",
    "                      list_or_df = \"LIST\", \n",
    "                      save_nba_teams='N')\n",
    "\n",
    "general.save_zip_file(\"TEAMS_STATS_PLAYOFFS_V2\", \n",
    "                      dash_opp_playoffs,\n",
    "                      list_or_df = \"LIST\", \n",
    "                      save_nba_teams='N')"
   ]
  },
  {
   "cell_type": "markdown",
   "id": "99dec1e8",
   "metadata": {},
   "source": [
    "### Join all files"
   ]
  },
  {
   "cell_type": "code",
   "execution_count": 5,
   "id": "c8ac5fd8",
   "metadata": {},
   "outputs": [],
   "source": [
    "list_join_teams = []\n",
    "\n",
    "list_join_teams = general.open_and_join_files(\"TEAMS_STATS_PRE_SEASON_V2\",list_join_teams)\n",
    "list_join_teams = general.open_and_join_files(\"TEAMS_STATS_REGULAR_SEASON_V2\",list_join_teams)\n",
    "all_seasons_team = general.open_and_join_files(\"TEAMS_STATS_PLAYOFFS_V2\",list_join_teams)\n",
    "\n",
    "all_seasons_team_df = imp.pd.concat(all_seasons_team)"
   ]
  },
  {
   "cell_type": "code",
   "execution_count": 6,
   "id": "a7b4be43",
   "metadata": {},
   "outputs": [],
   "source": [
    "general.save_zip_file(\"TEAMS_STATS_ALL_SEASONS\", \n",
    "              all_seasons_team_df, \n",
    "              list_or_df='DF', \n",
    "              save_nba_teams=\"Y\" )"
   ]
  }
 ],
 "metadata": {
  "kernelspec": {
   "display_name": "Python 3 (ipykernel)",
   "language": "python",
   "name": "python3"
  },
  "language_info": {
   "codemirror_mode": {
    "name": "ipython",
    "version": 3
   },
   "file_extension": ".py",
   "mimetype": "text/x-python",
   "name": "python",
   "nbconvert_exporter": "python",
   "pygments_lexer": "ipython3",
   "version": "3.8.10"
  }
 },
 "nbformat": 4,
 "nbformat_minor": 5
}

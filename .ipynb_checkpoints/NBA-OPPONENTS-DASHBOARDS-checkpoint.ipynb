{
 "cells": [
  {
   "cell_type": "markdown",
   "id": "6669ce29",
   "metadata": {},
   "source": [
    "# NBA OPPONENTS DASHBOARDS"
   ]
  },
  {
   "cell_type": "code",
   "execution_count": null,
   "id": "2f69e3c6",
   "metadata": {},
   "outputs": [],
   "source": [
    "import Functions.OpponentDashboard as OpponentDashboard\n",
    "import Functions.General as general\n",
    "import Functions.Imports as imp"
   ]
  },
  {
   "cell_type": "markdown",
   "id": "4da97f8f",
   "metadata": {},
   "source": [
    "### Querys"
   ]
  },
  {
   "cell_type": "markdown",
   "id": "dd377010",
   "metadata": {},
   "source": [
    "#### Pre Season"
   ]
  },
  {
   "cell_type": "code",
   "execution_count": null,
   "id": "cc288ec1",
   "metadata": {
    "scrolled": false
   },
   "outputs": [],
   "source": [
    "%%time\n",
    "\n",
    "dashboards_opponents_pre_season = []\n",
    "id_teams = []\n",
    "\n",
    "id_teams, dashboards_opponents_pre_season = OpponentDashboard. team_opponent_dashboard(dashboards_opponents_pre_season,\n",
    "                                                                                       id_teams,'Pre Season')\n"
   ]
  },
  {
   "cell_type": "code",
   "execution_count": null,
   "id": "d3fcc55c",
   "metadata": {},
   "outputs": [],
   "source": [
    "general.save_zip_file(\"TEAMS_OPPONENTS_PRE_SEASON\", \n",
    "                      dashboards_opponents_pre_season, \n",
    "                      list_or_df = \"LIST\",\n",
    "                      save_nba_teams='N')"
   ]
  },
  {
   "cell_type": "markdown",
   "id": "667685f2",
   "metadata": {},
   "source": [
    "#### Regular Season"
   ]
  },
  {
   "cell_type": "code",
   "execution_count": null,
   "id": "897e2188",
   "metadata": {},
   "outputs": [],
   "source": [
    "%%time\n",
    "\n",
    "dashboards_opponents_regular_season = []\n",
    "id_teams = []\n",
    "\n",
    "id_teams, dashboards_opponents_regular_season = OpponentDashboard. team_opponent_dashboard(dashboards_opponents_regular_season,\n",
    "                                                                                          id_teams,'Regular Season')\n"
   ]
  },
  {
   "cell_type": "code",
   "execution_count": null,
   "id": "09943ad4",
   "metadata": {},
   "outputs": [],
   "source": [
    "general.save_zip_file(\"TEAMS_OPPONENTS_REGULAR_SEASON\", \n",
    "                      dashboards_opponents_regular_season, \n",
    "                      list_or_df = \"LIST\",\n",
    "                      save_nba_teams='N')\n"
   ]
  },
  {
   "cell_type": "markdown",
   "id": "521521a1",
   "metadata": {},
   "source": [
    "#### Playoffs"
   ]
  },
  {
   "cell_type": "code",
   "execution_count": null,
   "id": "6a7abca1",
   "metadata": {},
   "outputs": [],
   "source": [
    "%%time\n",
    "\n",
    "dashboards_opponents_playoffs = []\n",
    "id_teams = []\n",
    "\n",
    "id_teams, dashboards_opponents_playoffs = OpponentDashboard. team_opponent_dashboard(dashboards_opponents_playoffs,\n",
    "                                                                                    id_teams,'Playoffs')\n"
   ]
  },
  {
   "cell_type": "code",
   "execution_count": null,
   "id": "85a4f48d",
   "metadata": {},
   "outputs": [],
   "source": [
    "general.save_zip_file(\"TEAMS_OPPONENTS_PLAYOFFS\", \n",
    "                      dashboards_opponents_playoffs, \n",
    "                      list_or_df = \"LIST\",\n",
    "                      save_nba_teams='N')"
   ]
  },
  {
   "cell_type": "markdown",
   "id": "3a15ff58",
   "metadata": {},
   "source": [
    "### Modify files"
   ]
  },
  {
   "cell_type": "code",
   "execution_count": null,
   "id": "bd8236a5",
   "metadata": {},
   "outputs": [],
   "source": [
    "dash_opp_pre = general.open_zip_file(\"TEAMS_OPPONENTS_PRE_SEASON\")\n",
    "dash_opp_regular = general.open_zip_file(\"TEAMS_OPPONENTS_REGULAR_SEASON\")\n",
    "dash_opp_playoffs = general.open_zip_file(\"TEAMS_OPPONENTS_PLAYOFFS\")"
   ]
  },
  {
   "cell_type": "code",
   "execution_count": null,
   "id": "fa636186",
   "metadata": {},
   "outputs": [],
   "source": [
    "general.modify_columns(dash_opp_pre, opponent= 'Y')\n",
    "general.modify_columns(dash_opp_regular, opponent= 'Y')\n",
    "general.modify_columns(dash_opp_playoffs, opponent= 'Y')"
   ]
  },
  {
   "cell_type": "code",
   "execution_count": null,
   "id": "3364859e",
   "metadata": {},
   "outputs": [],
   "source": [
    "general.save_zip_file(\"TEAMS_OPPONENTS_PRE_SEASON_V2\", \n",
    "                      dash_opp_pre, \n",
    "                      list_or_df = \"LIST\", \n",
    "                      save_nba_teams='N')\n",
    "\n",
    "general.save_zip_file(\"TEAMS_OPPONENTS_REGULAR_SEASON_V2\", \n",
    "                      dash_opp_regular, \n",
    "                      list_or_df = \"LIST\",\n",
    "                      save_nba_teams='N')\n",
    "\n",
    "general.save_zip_file(\"TEAMS_OPPONENTS_PLAYOFFS_V2\", \n",
    "                      dash_opp_playoffs, \n",
    "                      list_or_df = \"LIST\",\n",
    "                      save_nba_teams='N')"
   ]
  },
  {
   "cell_type": "markdown",
   "id": "99dec1e8",
   "metadata": {},
   "source": [
    "### Join all files"
   ]
  },
  {
   "cell_type": "code",
   "execution_count": null,
   "id": "c8ac5fd8",
   "metadata": {},
   "outputs": [],
   "source": [
    "list_join_teams = []\n",
    "\n",
    "list_join_teams = general.open_and_join_files(\"TEAMS_OPPONENTS_PRE_SEASON_V2\", list_join_teams)\n",
    "list_join_teams = general.open_and_join_files(\"TEAMS_OPPONENTS_REGULAR_SEASON_V2\", list_join_teams)\n",
    "all_seasons_opponents = general.open_and_join_files(\"TEAMS_OPPONENTS_PLAYOFFS_V2\", list_join_teams)\n",
    "\n",
    "all_seasons_opponents_df = imp.pd.concat(all_seasons_opponents)"
   ]
  },
  {
   "cell_type": "code",
   "execution_count": null,
   "id": "a7b4be43",
   "metadata": {
    "scrolled": false
   },
   "outputs": [],
   "source": [
    "general.save_zip_file(\"TEAMS_OPPONENTS_ALL_SEASONS\", \n",
    "                      all_seasons_opponents_df, \n",
    "                      list_or_df='DF', \n",
    "                      save_nba_teams=\"Y\" )"
   ]
  }
 ],
 "metadata": {
  "kernelspec": {
   "display_name": "Python 3 (ipykernel)",
   "language": "python",
   "name": "python3"
  },
  "language_info": {
   "codemirror_mode": {
    "name": "ipython",
    "version": 3
   },
   "file_extension": ".py",
   "mimetype": "text/x-python",
   "name": "python",
   "nbconvert_exporter": "python",
   "pygments_lexer": "ipython3",
   "version": "3.8.10"
  }
 },
 "nbformat": 4,
 "nbformat_minor": 5
}
